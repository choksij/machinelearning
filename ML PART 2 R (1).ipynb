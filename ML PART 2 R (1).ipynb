{
 "cells": [
  {
   "cell_type": "code",
   "execution_count": 1,
   "id": "502e3af9",
   "metadata": {},
   "outputs": [
    {
     "name": "stderr",
     "output_type": "stream",
     "text": [
      "also installing the dependencies 'cli', 'lifecycle', 'pillar', 'rlang', 'tibble', 'tidyselect', 'vctrs'\n",
      "\n",
      "Warning message:\n",
      "\"unable to access index for repository https://cran.r-project.org/bin/windows/contrib/3.6:\n",
      "  cannot open URL 'https://cran.r-project.org/bin/windows/contrib/3.6/PACKAGES'\"Packages which are only available in source form, and may need\n",
      "  compilation of C/C++/Fortran: 'cli' 'rlang' 'tibble' 'vctrs' 'readxl'\n",
      "  'dplyr' 'proxy'\n"
     ]
    },
    {
     "name": "stdout",
     "output_type": "stream",
     "text": [
      "  These will not be installed\n"
     ]
    },
    {
     "name": "stderr",
     "output_type": "stream",
     "text": [
      "installing the source packages 'lifecycle', 'pillar', 'tidyselect'\n",
      "\n",
      "Warning message in install.packages(c(\"readxl\", \"dplyr\", \"proxy\")):\n",
      "\"installation of package 'lifecycle' had non-zero exit status\"Warning message in install.packages(c(\"readxl\", \"dplyr\", \"proxy\")):\n",
      "\"installation of package 'pillar' had non-zero exit status\"Warning message in install.packages(c(\"readxl\", \"dplyr\", \"proxy\")):\n",
      "\"installation of package 'tidyselect' had non-zero exit status\""
     ]
    }
   ],
   "source": [
    "install.packages(c(\"readxl\", \"dplyr\", \"proxy\"))"
   ]
  },
  {
   "cell_type": "code",
   "execution_count": 2,
   "id": "028fd6b9",
   "metadata": {},
   "outputs": [
    {
     "name": "stderr",
     "output_type": "stream",
     "text": [
      "Warning message:\n",
      "\"package 'readxl' was built under R version 3.6.3\"Warning message:\n",
      "\"package 'dplyr' was built under R version 3.6.3\"\n",
      "Attaching package: 'dplyr'\n",
      "\n",
      "The following objects are masked from 'package:stats':\n",
      "\n",
      "    filter, lag\n",
      "\n",
      "The following objects are masked from 'package:base':\n",
      "\n",
      "    intersect, setdiff, setequal, union\n",
      "\n",
      "Warning message:\n",
      "\"package 'proxy' was built under R version 3.6.3\"\n",
      "Attaching package: 'proxy'\n",
      "\n",
      "The following objects are masked from 'package:stats':\n",
      "\n",
      "    as.dist, dist\n",
      "\n",
      "The following object is masked from 'package:base':\n",
      "\n",
      "    as.matrix\n",
      "\n"
     ]
    }
   ],
   "source": [
    "library(readxl)\n",
    "library(dplyr)\n",
    "library(proxy)"
   ]
  },
  {
   "cell_type": "code",
   "execution_count": 3,
   "id": "c3eae894",
   "metadata": {},
   "outputs": [
    {
     "data": {
      "text/html": [
       "<table>\n",
       "<thead><tr><th scope=col>state_code</th><th scope=col>county_code</th><th scope=col>site_number</th><th scope=col>parameter_code</th><th scope=col>poc</th><th scope=col>latitude</th><th scope=col>longitude</th><th scope=col>datum</th><th scope=col>parameter</th><th scope=col>sample_duration_code</th><th scope=col>...</th><th scope=col>seventy_fifth_percentile</th><th scope=col>fiftieth_percentile</th><th scope=col>tenth_percentile</th><th scope=col>site_address</th><th scope=col>state</th><th scope=col>county</th><th scope=col>city</th><th scope=col>cbsa_code</th><th scope=col>cbsa</th><th scope=col>date_of_last_change</th></tr></thead>\n",
       "<tbody>\n",
       "\t<tr><td>37                               </td><td>021                              </td><td>0032                             </td><td>45201                            </td><td>1                                </td><td>35.55833                         </td><td>-82.52083                        </td><td>WGS84                            </td><td>Benzene                          </td><td>3                                </td><td>...                              </td><td> 8.0                             </td><td>7.7                              </td><td>1.8                              </td><td>LONDON RD ASHVILLE NC 28803      </td><td>North Carolina                   </td><td>Buncombe                         </td><td>Asheville                        </td><td>11700                            </td><td>Asheville, NC                    </td><td>2020-05-21                       </td></tr>\n",
       "\t<tr><td>37                               </td><td>077                              </td><td>0001                             </td><td>45201                            </td><td>1                                </td><td>36.14111                         </td><td>-78.76806                        </td><td>WGS84                            </td><td>Benzene                          </td><td>B                                </td><td>...                              </td><td> 2.9                             </td><td>2.0                              </td><td>1.3                              </td><td>800 Central Avenue               </td><td>North Carolina                   </td><td>Granville                        </td><td>Butner                           </td><td>37080                            </td><td>Oxford, NC                       </td><td>2020-05-21                       </td></tr>\n",
       "\t<tr><td>37                               </td><td>119                              </td><td>0034                             </td><td>45201                            </td><td>1                                </td><td>35.24875                         </td><td>-80.76618                        </td><td>WGS84                            </td><td>Benzene                          </td><td>B                                </td><td>...                              </td><td> 7.9                             </td><td>6.0                              </td><td>2.1                              </td><td>PLAZA ROAD AND LAKEDELL          </td><td>North Carolina                   </td><td>Mecklenburg                      </td><td>Charlotte                        </td><td>16740                            </td><td>Charlotte-Concord-Gastonia, NC-SC</td><td>2020-05-21                       </td></tr>\n",
       "\t<tr><td>37                               </td><td>119                              </td><td>0034                             </td><td>45201                            </td><td>2                                </td><td>35.24875                         </td><td>-80.76618                        </td><td>WGS84                            </td><td>Benzene                          </td><td>3                                </td><td>...                              </td><td>14.6                             </td><td>6.4                              </td><td>1.7                              </td><td>PLAZA ROAD AND LAKEDELL          </td><td>North Carolina                   </td><td>Mecklenburg                      </td><td>Charlotte                        </td><td>16740                            </td><td>Charlotte-Concord-Gastonia, NC-SC</td><td>2020-05-21                       </td></tr>\n",
       "\t<tr><td>37                               </td><td>159                              </td><td>0022                             </td><td>45201                            </td><td>1                                </td><td>35.53448                         </td><td>-80.66756                        </td><td>WGS84                            </td><td>Benzene                          </td><td>3                                </td><td>...                              </td><td> 3.6                             </td><td>2.7                              </td><td>1.0                              </td><td>925 N ENOCHVILLE AVE             </td><td>North Carolina                   </td><td>Rowan                            </td><td>China Grove                      </td><td>16740                            </td><td>Charlotte-Concord-Gastonia, NC-SC</td><td>2020-05-21                       </td></tr>\n",
       "\t<tr><td>37                               </td><td>159                              </td><td>0022                             </td><td>45201                            </td><td>2                                </td><td>35.53448                         </td><td>-80.66756                        </td><td>WGS84                            </td><td>Benzene                          </td><td>B                                </td><td>...                              </td><td> 3.8                             </td><td>2.6                              </td><td>1.6                              </td><td>925 N ENOCHVILLE AVE             </td><td>North Carolina                   </td><td>Rowan                            </td><td>China Grove                      </td><td>16740                            </td><td>Charlotte-Concord-Gastonia, NC-SC</td><td>2020-05-21                       </td></tr>\n",
       "</tbody>\n",
       "</table>\n"
      ],
      "text/latex": [
       "\\begin{tabular}{r|lllllllllllllllllllllllllllllllllllllllllll}\n",
       " state\\_code & county\\_code & site\\_number & parameter\\_code & poc & latitude & longitude & datum & parameter & sample\\_duration\\_code & ... & seventy\\_fifth\\_percentile & fiftieth\\_percentile & tenth\\_percentile & site\\_address & state & county & city & cbsa\\_code & cbsa & date\\_of\\_last\\_change\\\\\n",
       "\\hline\n",
       "\t 37                                & 021                               & 0032                              & 45201                             & 1                                 & 35.55833                          & -82.52083                         & WGS84                             & Benzene                           & 3                                 & ...                               &  8.0                              & 7.7                               & 1.8                               & LONDON RD ASHVILLE NC 28803       & North Carolina                    & Buncombe                          & Asheville                         & 11700                             & Asheville, NC                     & 2020-05-21                       \\\\\n",
       "\t 37                                & 077                               & 0001                              & 45201                             & 1                                 & 36.14111                          & -78.76806                         & WGS84                             & Benzene                           & B                                 & ...                               &  2.9                              & 2.0                               & 1.3                               & 800 Central Avenue                & North Carolina                    & Granville                         & Butner                            & 37080                             & Oxford, NC                        & 2020-05-21                       \\\\\n",
       "\t 37                                & 119                               & 0034                              & 45201                             & 1                                 & 35.24875                          & -80.76618                         & WGS84                             & Benzene                           & B                                 & ...                               &  7.9                              & 6.0                               & 2.1                               & PLAZA ROAD AND LAKEDELL           & North Carolina                    & Mecklenburg                       & Charlotte                         & 16740                             & Charlotte-Concord-Gastonia, NC-SC & 2020-05-21                       \\\\\n",
       "\t 37                                & 119                               & 0034                              & 45201                             & 2                                 & 35.24875                          & -80.76618                         & WGS84                             & Benzene                           & 3                                 & ...                               & 14.6                              & 6.4                               & 1.7                               & PLAZA ROAD AND LAKEDELL           & North Carolina                    & Mecklenburg                       & Charlotte                         & 16740                             & Charlotte-Concord-Gastonia, NC-SC & 2020-05-21                       \\\\\n",
       "\t 37                                & 159                               & 0022                              & 45201                             & 1                                 & 35.53448                          & -80.66756                         & WGS84                             & Benzene                           & 3                                 & ...                               &  3.6                              & 2.7                               & 1.0                               & 925 N ENOCHVILLE AVE              & North Carolina                    & Rowan                             & China Grove                       & 16740                             & Charlotte-Concord-Gastonia, NC-SC & 2020-05-21                       \\\\\n",
       "\t 37                                & 159                               & 0022                              & 45201                             & 2                                 & 35.53448                          & -80.66756                         & WGS84                             & Benzene                           & B                                 & ...                               &  3.8                              & 2.6                               & 1.6                               & 925 N ENOCHVILLE AVE              & North Carolina                    & Rowan                             & China Grove                       & 16740                             & Charlotte-Concord-Gastonia, NC-SC & 2020-05-21                       \\\\\n",
       "\\end{tabular}\n"
      ],
      "text/markdown": [
       "\n",
       "| state_code | county_code | site_number | parameter_code | poc | latitude | longitude | datum | parameter | sample_duration_code | ... | seventy_fifth_percentile | fiftieth_percentile | tenth_percentile | site_address | state | county | city | cbsa_code | cbsa | date_of_last_change |\n",
       "|---|---|---|---|---|---|---|---|---|---|---|---|---|---|---|---|---|---|---|---|---|\n",
       "| 37                                | 021                               | 0032                              | 45201                             | 1                                 | 35.55833                          | -82.52083                         | WGS84                             | Benzene                           | 3                                 | ...                               |  8.0                              | 7.7                               | 1.8                               | LONDON RD ASHVILLE NC 28803       | North Carolina                    | Buncombe                          | Asheville                         | 11700                             | Asheville, NC                     | 2020-05-21                        |\n",
       "| 37                                | 077                               | 0001                              | 45201                             | 1                                 | 36.14111                          | -78.76806                         | WGS84                             | Benzene                           | B                                 | ...                               |  2.9                              | 2.0                               | 1.3                               | 800 Central Avenue                | North Carolina                    | Granville                         | Butner                            | 37080                             | Oxford, NC                        | 2020-05-21                        |\n",
       "| 37                                | 119                               | 0034                              | 45201                             | 1                                 | 35.24875                          | -80.76618                         | WGS84                             | Benzene                           | B                                 | ...                               |  7.9                              | 6.0                               | 2.1                               | PLAZA ROAD AND LAKEDELL           | North Carolina                    | Mecklenburg                       | Charlotte                         | 16740                             | Charlotte-Concord-Gastonia, NC-SC | 2020-05-21                        |\n",
       "| 37                                | 119                               | 0034                              | 45201                             | 2                                 | 35.24875                          | -80.76618                         | WGS84                             | Benzene                           | 3                                 | ...                               | 14.6                              | 6.4                               | 1.7                               | PLAZA ROAD AND LAKEDELL           | North Carolina                    | Mecklenburg                       | Charlotte                         | 16740                             | Charlotte-Concord-Gastonia, NC-SC | 2020-05-21                        |\n",
       "| 37                                | 159                               | 0022                              | 45201                             | 1                                 | 35.53448                          | -80.66756                         | WGS84                             | Benzene                           | 3                                 | ...                               |  3.6                              | 2.7                               | 1.0                               | 925 N ENOCHVILLE AVE              | North Carolina                    | Rowan                             | China Grove                       | 16740                             | Charlotte-Concord-Gastonia, NC-SC | 2020-05-21                        |\n",
       "| 37                                | 159                               | 0022                              | 45201                             | 2                                 | 35.53448                          | -80.66756                         | WGS84                             | Benzene                           | B                                 | ...                               |  3.8                              | 2.6                               | 1.6                               | 925 N ENOCHVILLE AVE              | North Carolina                    | Rowan                             | China Grove                       | 16740                             | Charlotte-Concord-Gastonia, NC-SC | 2020-05-21                        |\n",
       "\n"
      ],
      "text/plain": [
       "  state_code county_code site_number parameter_code poc latitude longitude\n",
       "1 37         021         0032        45201          1   35.55833 -82.52083\n",
       "2 37         077         0001        45201          1   36.14111 -78.76806\n",
       "3 37         119         0034        45201          1   35.24875 -80.76618\n",
       "4 37         119         0034        45201          2   35.24875 -80.76618\n",
       "5 37         159         0022        45201          1   35.53448 -80.66756\n",
       "6 37         159         0022        45201          2   35.53448 -80.66756\n",
       "  datum parameter sample_duration_code ... seventy_fifth_percentile\n",
       "1 WGS84 Benzene   3                    ...  8.0                    \n",
       "2 WGS84 Benzene   B                    ...  2.9                    \n",
       "3 WGS84 Benzene   B                    ...  7.9                    \n",
       "4 WGS84 Benzene   3                    ... 14.6                    \n",
       "5 WGS84 Benzene   3                    ...  3.6                    \n",
       "6 WGS84 Benzene   B                    ...  3.8                    \n",
       "  fiftieth_percentile tenth_percentile site_address               \n",
       "1 7.7                 1.8              LONDON RD ASHVILLE NC 28803\n",
       "2 2.0                 1.3              800 Central Avenue         \n",
       "3 6.0                 2.1              PLAZA ROAD AND LAKEDELL    \n",
       "4 6.4                 1.7              PLAZA ROAD AND LAKEDELL    \n",
       "5 2.7                 1.0              925 N ENOCHVILLE AVE       \n",
       "6 2.6                 1.6              925 N ENOCHVILLE AVE       \n",
       "  state          county      city        cbsa_code\n",
       "1 North Carolina Buncombe    Asheville   11700    \n",
       "2 North Carolina Granville   Butner      37080    \n",
       "3 North Carolina Mecklenburg Charlotte   16740    \n",
       "4 North Carolina Mecklenburg Charlotte   16740    \n",
       "5 North Carolina Rowan       China Grove 16740    \n",
       "6 North Carolina Rowan       China Grove 16740    \n",
       "  cbsa                              date_of_last_change\n",
       "1 Asheville, NC                     2020-05-21         \n",
       "2 Oxford, NC                        2020-05-21         \n",
       "3 Charlotte-Concord-Gastonia, NC-SC 2020-05-21         \n",
       "4 Charlotte-Concord-Gastonia, NC-SC 2020-05-21         \n",
       "5 Charlotte-Concord-Gastonia, NC-SC 2020-05-21         \n",
       "6 Charlotte-Concord-Gastonia, NC-SC 2020-05-21         "
      ]
     },
     "metadata": {},
     "output_type": "display_data"
    }
   ],
   "source": [
    "dfc <- read_excel(\"WEATHERMAIN.xlsx\")\n",
    "head(dfc)"
   ]
  },
  {
   "cell_type": "code",
   "execution_count": 4,
   "id": "cdfd27ce",
   "metadata": {},
   "outputs": [
    {
     "data": {
      "text/html": [
       "<table>\n",
       "<thead><tr><th scope=col>latitude</th><th scope=col>longitude</th><th scope=col>arithmetic_mean</th></tr></thead>\n",
       "<tbody>\n",
       "\t<tr><td>35.55833 </td><td>-82.52083</td><td>5.830000 </td></tr>\n",
       "\t<tr><td>36.14111 </td><td>-78.76806</td><td>2.285366 </td></tr>\n",
       "\t<tr><td>35.24875 </td><td>-80.76618</td><td>6.302703 </td></tr>\n",
       "\t<tr><td>35.24875 </td><td>-80.76618</td><td>8.986957 </td></tr>\n",
       "\t<tr><td>35.53448 </td><td>-80.66756</td><td>3.566667 </td></tr>\n",
       "\t<tr><td>35.53448 </td><td>-80.66756</td><td>2.960870 </td></tr>\n",
       "</tbody>\n",
       "</table>\n"
      ],
      "text/latex": [
       "\\begin{tabular}{r|lll}\n",
       " latitude & longitude & arithmetic\\_mean\\\\\n",
       "\\hline\n",
       "\t 35.55833  & -82.52083 & 5.830000 \\\\\n",
       "\t 36.14111  & -78.76806 & 2.285366 \\\\\n",
       "\t 35.24875  & -80.76618 & 6.302703 \\\\\n",
       "\t 35.24875  & -80.76618 & 8.986957 \\\\\n",
       "\t 35.53448  & -80.66756 & 3.566667 \\\\\n",
       "\t 35.53448  & -80.66756 & 2.960870 \\\\\n",
       "\\end{tabular}\n"
      ],
      "text/markdown": [
       "\n",
       "| latitude | longitude | arithmetic_mean |\n",
       "|---|---|---|\n",
       "| 35.55833  | -82.52083 | 5.830000  |\n",
       "| 36.14111  | -78.76806 | 2.285366  |\n",
       "| 35.24875  | -80.76618 | 6.302703  |\n",
       "| 35.24875  | -80.76618 | 8.986957  |\n",
       "| 35.53448  | -80.66756 | 3.566667  |\n",
       "| 35.53448  | -80.66756 | 2.960870  |\n",
       "\n"
      ],
      "text/plain": [
       "  latitude longitude arithmetic_mean\n",
       "1 35.55833 -82.52083 5.830000       \n",
       "2 36.14111 -78.76806 2.285366       \n",
       "3 35.24875 -80.76618 6.302703       \n",
       "4 35.24875 -80.76618 8.986957       \n",
       "5 35.53448 -80.66756 3.566667       \n",
       "6 35.53448 -80.66756 2.960870       "
      ]
     },
     "metadata": {},
     "output_type": "display_data"
    }
   ],
   "source": [
    "num <- dfc[, c('latitude', 'longitude', 'arithmetic_mean')]\n",
    "head(num)"
   ]
  },
  {
   "cell_type": "code",
   "execution_count": 5,
   "id": "641edf95",
   "metadata": {},
   "outputs": [],
   "source": [
    "set.seed(333)\n",
    "dist <- proxy::dist(as.matrix(num), method = \"cosine\")\n",
    "h <- hclust(dist, method = \"complete\")"
   ]
  },
  {
   "cell_type": "code",
   "execution_count": 6,
   "id": "f5ca9c01",
   "metadata": {},
   "outputs": [
    {
     "name": "stdout",
     "output_type": "stream",
     "text": [
      "\n",
      "Call:\n",
      "hclust(d = dist, method = \"complete\")\n",
      "\n",
      "Cluster method   : complete \n",
      "Distance         : cosine \n",
      "Number of objects: 21 \n",
      "\n"
     ]
    }
   ],
   "source": [
    "print(h)"
   ]
  },
  {
   "cell_type": "code",
   "execution_count": 7,
   "id": "73a72eae",
   "metadata": {},
   "outputs": [],
   "source": [
    "clust <- cutree(h, k = 2)\n",
    "num$cluster <- clust"
   ]
  },
  {
   "cell_type": "code",
   "execution_count": 8,
   "id": "61736a15",
   "metadata": {},
   "outputs": [
    {
     "name": "stdout",
     "output_type": "stream",
     "text": [
      "# A tibble: 21 x 4\n",
      "   latitude longitude arithmetic_mean cluster\n",
      "      <dbl>     <dbl>           <dbl>   <int>\n",
      " 1     35.6     -82.5            5.83       1\n",
      " 2     36.1     -78.8            2.29       2\n",
      " 3     35.2     -80.8            6.30       1\n",
      " 4     35.2     -80.8            8.99       1\n",
      " 5     35.5     -80.7            3.57       2\n",
      " 6     35.5     -80.7            2.96       2\n",
      " 7     36.0     -78.9            5.19       1\n",
      " 8     36.0     -78.9            4.24       1\n",
      " 9     35.0     -78.9            8.43       1\n",
      "10     36.1     -78.5            3.14       2\n",
      "# ... with 11 more rows\n"
     ]
    }
   ],
   "source": [
    "print(num)"
   ]
  },
  {
   "cell_type": "code",
   "execution_count": 9,
   "id": "d5ba8e25",
   "metadata": {},
   "outputs": [
    {
     "name": "stdout",
     "output_type": "stream",
     "text": [
      " [1] 1 2 1 1 2 2 1 1 1 2 2 1 2 2 1 2 1 1 1 1 2\n"
     ]
    }
   ],
   "source": [
    "print(num$cluster)"
   ]
  },
  {
   "cell_type": "code",
   "execution_count": 10,
   "id": "c1508957",
   "metadata": {},
   "outputs": [
    {
     "data": {
      "image/png": "[encoded data removed]",
      "text/plain": [
       "Plot with title \"Hierarchical Clustering Dendrogram\""
      ]
     },
     "metadata": {},
     "output_type": "display_data"
    }
   ],
   "source": [
    "plot(h, cex = 0.6, main = \"Hierarchical Clustering Dendrogram\", xlab = \"Samples\")"
   ]
  },
  {
   "cell_type": "code",
   "execution_count": 14,
   "id": "55a913fb",
   "metadata": {
    "scrolled": false
   },
   "outputs": [
    {
     "data": {
      "image/png": "[encoded data removed]",
      "text/plain": [
       "plot without title"
      ]
     },
     "metadata": {},
     "output_type": "display_data"
    },
    {
     "data": {
      "image/png": "[encoded data removed]",
      "text/plain": [
       "Plot with title \"Scree Plot for PCA: Cumulative Explained Variance\""
      ]
     },
     "metadata": {},
     "output_type": "display_data"
    },
    {
     "data": {
      "image/png": "[encoded data removed]",
      "text/plain": [
       "Plot with title \"PCA: Scatter Plot of Principal Components\""
      ]
     },
     "metadata": {},
     "output_type": "display_data"
    }
   ],
   "source": [
    "# numeric_data_pca <- dfc[, c('latitude', 'longitude', 'arithmetic_mean')]\n",
    "pca_r <- prcomp(num, scale. = TRUE)\n",
    "biplot(pca_r)\n",
    "plot(1:length(pca_r$sdev), cumsum(pca_r$sdev^2) / sum(pca_r$sdev^2),\n",
    "     type = 'b', pch = 19, col = 'blue', xlab = 'Number of Principal Components',\n",
    "     ylab = 'Cumulative Explained Variance',\n",
    "     main = 'Scree Plot for PCA: Cumulative Explained Variance')\n",
    "plot(pca_r$x[, 1], pca_r$x[, 2], main='PCA: Scatter Plot of Principal Components',\n",
    "     xlab='Principal Component 1', ylab='Principal Component 2', pch=16, col='blue')"
   ]
  },
  {
   "cell_type": "code",
   "execution_count": 15,
   "id": "7c99bf05",
   "metadata": {},
   "outputs": [
    {
     "data": {
      "text/html": [
       "<ol class=list-inline>\n",
       "\t<li>1</li>\n",
       "\t<li>2</li>\n",
       "\t<li>1</li>\n",
       "\t<li>1</li>\n",
       "\t<li>2</li>\n",
       "\t<li>2</li>\n",
       "\t<li>2</li>\n",
       "\t<li>2</li>\n",
       "\t<li>1</li>\n",
       "\t<li>2</li>\n",
       "\t<li>2</li>\n",
       "\t<li>1</li>\n",
       "\t<li>2</li>\n",
       "\t<li>2</li>\n",
       "\t<li>1</li>\n",
       "\t<li>2</li>\n",
       "\t<li>1</li>\n",
       "\t<li>1</li>\n",
       "\t<li>1</li>\n",
       "\t<li>2</li>\n",
       "\t<li>2</li>\n",
       "</ol>\n"
      ],
      "text/latex": [
       "\\begin{enumerate*}\n",
       "\\item 1\n",
       "\\item 2\n",
       "\\item 1\n",
       "\\item 1\n",
       "\\item 2\n",
       "\\item 2\n",
       "\\item 2\n",
       "\\item 2\n",
       "\\item 1\n",
       "\\item 2\n",
       "\\item 2\n",
       "\\item 1\n",
       "\\item 2\n",
       "\\item 2\n",
       "\\item 1\n",
       "\\item 2\n",
       "\\item 1\n",
       "\\item 1\n",
       "\\item 1\n",
       "\\item 2\n",
       "\\item 2\n",
       "\\end{enumerate*}\n"
      ],
      "text/markdown": [
       "1. 1\n",
       "2. 2\n",
       "3. 1\n",
       "4. 1\n",
       "5. 2\n",
       "6. 2\n",
       "7. 2\n",
       "8. 2\n",
       "9. 1\n",
       "10. 2\n",
       "11. 2\n",
       "12. 1\n",
       "13. 2\n",
       "14. 2\n",
       "15. 1\n",
       "16. 2\n",
       "17. 1\n",
       "18. 1\n",
       "19. 1\n",
       "20. 2\n",
       "21. 2\n",
       "\n",
       "\n"
      ],
      "text/plain": [
       " [1] 1 2 1 1 2 2 2 2 1 2 2 1 2 2 1 2 1 1 1 2 2"
      ]
     },
     "metadata": {},
     "output_type": "display_data"
    },
    {
     "name": "stderr",
     "output_type": "stream",
     "text": [
      "Warning message:\n",
      "\"package 'ggplot2' was built under R version 3.6.3\""
     ]
    },
    {
     "data": {
      "image/png": "[encoded data removed]",
      "text/plain": [
       "plot without title"
      ]
     },
     "metadata": {},
     "output_type": "display_data"
    }
   ],
   "source": [
    "agg <- cutree(hclust(dist(num), method=\"complete\"), k=2)\n",
    "num$agg <- agg\n",
    "num$agg\n",
    "library(ggplot2)\n",
    "ggplot(num, aes(x = latitude, y = longitude, color = as.factor(agg))) +\n",
    "  geom_point() +\n",
    "  ggtitle('Agglomerative Clustering for PCA') +\n",
    "  xlab('Latitude') +\n",
    "  ylab('Longitude') +\n",
    "  theme_minimal()"
   ]
  },
  {
   "cell_type": "code",
   "execution_count": 17,
   "id": "8cefaf2a",
   "metadata": {},
   "outputs": [
    {
     "data": {
      "text/html": [
       "<ol class=list-inline>\n",
       "\t<li>1</li>\n",
       "\t<li>2</li>\n",
       "\t<li>1</li>\n",
       "\t<li>3</li>\n",
       "\t<li>2</li>\n",
       "\t<li>2</li>\n",
       "\t<li>2</li>\n",
       "\t<li>2</li>\n",
       "\t<li>3</li>\n",
       "\t<li>2</li>\n",
       "\t<li>2</li>\n",
       "\t<li>3</li>\n",
       "\t<li>2</li>\n",
       "\t<li>2</li>\n",
       "\t<li>1</li>\n",
       "\t<li>2</li>\n",
       "\t<li>3</li>\n",
       "\t<li>3</li>\n",
       "\t<li>3</li>\n",
       "\t<li>2</li>\n",
       "\t<li>2</li>\n",
       "</ol>\n"
      ],
      "text/latex": [
       "\\begin{enumerate*}\n",
       "\\item 1\n",
       "\\item 2\n",
       "\\item 1\n",
       "\\item 3\n",
       "\\item 2\n",
       "\\item 2\n",
       "\\item 2\n",
       "\\item 2\n",
       "\\item 3\n",
       "\\item 2\n",
       "\\item 2\n",
       "\\item 3\n",
       "\\item 2\n",
       "\\item 2\n",
       "\\item 1\n",
       "\\item 2\n",
       "\\item 3\n",
       "\\item 3\n",
       "\\item 3\n",
       "\\item 2\n",
       "\\item 2\n",
       "\\end{enumerate*}\n"
      ],
      "text/markdown": [
       "1. 1\n",
       "2. 2\n",
       "3. 1\n",
       "4. 3\n",
       "5. 2\n",
       "6. 2\n",
       "7. 2\n",
       "8. 2\n",
       "9. 3\n",
       "10. 2\n",
       "11. 2\n",
       "12. 3\n",
       "13. 2\n",
       "14. 2\n",
       "15. 1\n",
       "16. 2\n",
       "17. 3\n",
       "18. 3\n",
       "19. 3\n",
       "20. 2\n",
       "21. 2\n",
       "\n",
       "\n"
      ],
      "text/plain": [
       " [1] 1 2 1 3 2 2 2 2 3 2 2 3 2 2 1 2 3 3 3 2 2"
      ]
     },
     "metadata": {},
     "output_type": "display_data"
    },
    {
     "data": {
      "image/png": "[encoded data removed]",
      "text/plain": [
       "plot without title"
      ]
     },
     "metadata": {},
     "output_type": "display_data"
    }
   ],
   "source": [
    "agg <- cutree(hclust(dist(num), method=\"complete\"), k=3)\n",
    "num$agg <- agg\n",
    "num$agg\n",
    "library(ggplot2)\n",
    "ggplot(num, aes(x = latitude, y = longitude, color = as.factor(agg))) +\n",
    "  geom_point() +\n",
    "  ggtitle('Agglomerative Clustering for PCA') +\n",
    "  xlab('Latitude') +\n",
    "  ylab('Longitude') +\n",
    "  theme_minimal()"
   ]
  },
  {
   "cell_type": "code",
   "execution_count": 18,
   "id": "7c3b7a3c",
   "metadata": {},
   "outputs": [
    {
     "data": {
      "text/html": [
       "<ol class=list-inline>\n",
       "\t<li>1</li>\n",
       "\t<li>2</li>\n",
       "\t<li>1</li>\n",
       "\t<li>3</li>\n",
       "\t<li>2</li>\n",
       "\t<li>2</li>\n",
       "\t<li>2</li>\n",
       "\t<li>2</li>\n",
       "\t<li>3</li>\n",
       "\t<li>2</li>\n",
       "\t<li>2</li>\n",
       "\t<li>3</li>\n",
       "\t<li>2</li>\n",
       "\t<li>2</li>\n",
       "\t<li>1</li>\n",
       "\t<li>2</li>\n",
       "\t<li>3</li>\n",
       "\t<li>3</li>\n",
       "\t<li>3</li>\n",
       "\t<li>2</li>\n",
       "\t<li>4</li>\n",
       "</ol>\n"
      ],
      "text/latex": [
       "\\begin{enumerate*}\n",
       "\\item 1\n",
       "\\item 2\n",
       "\\item 1\n",
       "\\item 3\n",
       "\\item 2\n",
       "\\item 2\n",
       "\\item 2\n",
       "\\item 2\n",
       "\\item 3\n",
       "\\item 2\n",
       "\\item 2\n",
       "\\item 3\n",
       "\\item 2\n",
       "\\item 2\n",
       "\\item 1\n",
       "\\item 2\n",
       "\\item 3\n",
       "\\item 3\n",
       "\\item 3\n",
       "\\item 2\n",
       "\\item 4\n",
       "\\end{enumerate*}\n"
      ],
      "text/markdown": [
       "1. 1\n",
       "2. 2\n",
       "3. 1\n",
       "4. 3\n",
       "5. 2\n",
       "6. 2\n",
       "7. 2\n",
       "8. 2\n",
       "9. 3\n",
       "10. 2\n",
       "11. 2\n",
       "12. 3\n",
       "13. 2\n",
       "14. 2\n",
       "15. 1\n",
       "16. 2\n",
       "17. 3\n",
       "18. 3\n",
       "19. 3\n",
       "20. 2\n",
       "21. 4\n",
       "\n",
       "\n"
      ],
      "text/plain": [
       " [1] 1 2 1 3 2 2 2 2 3 2 2 3 2 2 1 2 3 3 3 2 4"
      ]
     },
     "metadata": {},
     "output_type": "display_data"
    },
    {
     "data": {
      "image/png": "[encoded data removed]",
      "text/plain": [
       "plot without title"
      ]
     },
     "metadata": {},
     "output_type": "display_data"
    }
   ],
   "source": [
    "agg <- cutree(hclust(dist(num), method=\"complete\"), k=4)\n",
    "num$agg <- agg\n",
    "num$agg\n",
    "library(ggplot2)\n",
    "ggplot(num, aes(x = latitude, y = longitude, color = as.factor(agg))) +\n",
    "  geom_point() +\n",
    "  ggtitle('Agglomerative Clustering for PCA') +\n",
    "  xlab('Latitude') +\n",
    "  ylab('Longitude') +\n",
    "  theme_minimal()"
   ]
  },
  {
   "cell_type": "code",
   "execution_count": null,
   "id": "521f4b94",
   "metadata": {},
   "outputs": [],
   "source": []
  },
  {
   "cell_type": "code",
   "execution_count": null,
   "id": "5a2cf8c7",
   "metadata": {},
   "outputs": [],
   "source": []
  }
 ],
 "metadata": {
  "kernelspec": {
   "display_name": "R",
   "language": "R",
   "name": "ir"
  },
  "language_info": {
   "codemirror_mode": "r",
   "file_extension": ".r",
   "mimetype": "text/x-r-source",
   "name": "R",
   "pygments_lexer": "r",
   "version": "3.6.1"
  }
 },
 "nbformat": 4,
 "nbformat_minor": 5
}
